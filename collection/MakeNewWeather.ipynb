version https://git-lfs.github.com/spec/v1
oid sha256:a9d00a1de37d0d835e7a7dc8b18181f5880ea9ef62b1ca1782cbe48862003f31
size 52026
