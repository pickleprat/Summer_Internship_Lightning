version https://git-lfs.github.com/spec/v1
oid sha256:c5a827430364e81a4841bbb8db4844514be2e445b45db1008cf9f5372eafa931
size 507521
