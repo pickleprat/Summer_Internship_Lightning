version https://git-lfs.github.com/spec/v1
oid sha256:6fcaa44fc8d1b506610ac0c1ca293872b23e98a7fb3774316d0e81360743a6e7
size 74780
