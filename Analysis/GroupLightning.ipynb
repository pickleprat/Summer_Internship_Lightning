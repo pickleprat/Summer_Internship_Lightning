version https://git-lfs.github.com/spec/v1
oid sha256:07c5866de6621a61cdb11b76e2fcde5619d240715fc6ccd95da89303f202b01a
size 884525
